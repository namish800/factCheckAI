{
 "cells": [
  {
   "cell_type": "code",
   "execution_count": 1,
   "id": "df6835f7",
   "metadata": {},
   "outputs": [],
   "source": [
    "from dotenv import load_dotenv\n",
    "\n",
    "_ = load_dotenv()"
   ]
  },
  {
   "cell_type": "code",
   "execution_count": 2,
   "id": "900ca5c9",
   "metadata": {},
   "outputs": [],
   "source": [
    "from langgraph.graph import StateGraph, END\n",
    "from typing import TypedDict, Annotated, List\n",
    "import operator\n",
    "from langgraph.checkpoint.sqlite import SqliteSaver\n",
    "from langchain_core.messages import AnyMessage, SystemMessage, HumanMessage, AIMessage, ChatMessage\n",
    "\n",
    "memory = SqliteSaver.from_conn_string(\":memory:\")"
   ]
  },
  {
   "cell_type": "code",
   "execution_count": 31,
   "id": "7318496a",
   "metadata": {},
   "outputs": [],
   "source": [
    "import re\n",
    "from langchain.schema import BaseOutputParser\n",
    "class FactCheckOutput():\n",
    "    def __init__(self, parsed_output):\n",
    "       self.assumption = parsed_output['assumption']\n",
    "       self.followup = parsed_output['followup']\n",
    "\n",
    "class FactCheckParser(BaseOutputParser):\n",
    "    \"\"\"Parse the output of an LLM call \"\"\"\n",
    "\n",
    "    def parse(self, text: str):\n",
    "        \"\"\"Parse the output of an LLM call.\"\"\"\n",
    "        assumption_matches = re.findall(r'Assumption: (.+)', text)\n",
    "        followup_matches = re.findall(r'Fact Check: (.+)', text)\n",
    "\n",
    "        return FactCheckOutput({\n",
    "            'assumption': assumption_matches if len(assumption_matches) > 0 else None,\n",
    "            'followup': followup_matches if len(followup_matches) > 0 else None\n",
    "      })"
   ]
  },
  {
   "cell_type": "code",
   "execution_count": 32,
   "id": "e13693af",
   "metadata": {},
   "outputs": [],
   "source": [
    "class AgentState(TypedDict):\n",
    "    post: str\n",
    "    claims: List[str]\n",
    "    fact_check_questions: List[str]\n",
    "    internet_findings: List[str]\n",
    "    result: str"
   ]
  },
  {
   "cell_type": "code",
   "execution_count": 33,
   "id": "655a92b4",
   "metadata": {},
   "outputs": [],
   "source": [
    "from langchain_openai import ChatOpenAI\n",
    "model = ChatOpenAI(model=\"gpt-4o\", temperature=0)"
   ]
  },
  {
   "cell_type": "code",
   "execution_count": 34,
   "id": "c68daa21",
   "metadata": {},
   "outputs": [],
   "source": [
    "CLAIM_EXTRACTOR_PROMPT = \"\"\"\n",
    "        As an expert in analyzing text for underlying assumptions, your task is to identify and articulate the key assumptions in a given user query.\n",
    "        Instructions:\n",
    "        Carefully read the user query provided.\n",
    "        Identify and list the foundational assumptions that the query is based on.\n",
    "        Keep your responses concise and specific to each assumption identified.\n",
    "        Do not include any search results or information outside of the query.\n",
    "        \n",
    "        Context:\n",
    "        A user will submit a query and you are required to dissect the implicit beliefs, premises, or preconceptions underlying their question or statement.\n",
    "        \n",
    "        Example Format:\n",
    "        Assumption: [State the first key assumption]\n",
    "        Assumption: [State the second key assumption]\n",
    "        Assumption: [State the third key assumption]\n",
    "        \n",
    "        Outcome:\n",
    "        Provide a clear, concise list of the underlying assumptions for the given user query.\n",
    "\"\"\"\n",
    "\n",
    "GENERATE_FACT_CHECK_QUESTION_SYS_PROMPT = \"\"\"\n",
    "     As an expert in fact-checking and internet research, your task is to formulate precise and fact-checkable questions that challenge the foundational assumptions given by the user.\n",
    "\n",
    "    ### Instructions:\n",
    "\n",
    "    1. Generate internet search queries that examine the basic existence or availability of the services or features mentioned in the user's query.\n",
    "    2. Use varied wording and sentence structures to broaden the scope of the search.\n",
    "    3. Your responses should be suitable for conducting thorough internet searches.\n",
    "    4. Do not address the user directly, as the user will not see your searches. \n",
    "    \n",
    "    ### Example Format:\n",
    "    Fact Check: [State the first internet search query]\n",
    "    Fact Check: [State the second internet search query]\n",
    "    Fact Check: [State the third internet search query]\n",
    "    \n",
    "    Generate your internet search queries below:\n",
    "\n",
    "\"\"\"\n",
    "\n",
    "reference_prompt = f\"\"\"\n",
    "You MUST write all used source urls at the end of the report as references, and make sure to not add duplicated sources, but only one reference for each.\n",
    "Every url should be hyperlinked: [url website](url)\n",
    "Additionally, you MUST include hyperlinks to the relevant URLs wherever they are referenced in the report: \n",
    "\n",
    "eg: Author, A. A. (Year, Month Date). Title of web page. Website Name. [url website](url)\n",
    "\"\"\"\n",
    "\n",
    "SUMMARIZE_FINDINGS_SYS_PROMPT = f\"\"\"### Instructions: As an expert in factual verification, determine the accuracy of \n",
    "    the given claims based on the given data. Summarize your findings, and provide a comprehensive explanation.\n",
    "    \n",
    "    ### Context:\n",
    "    post: [social media post to be fact checked]\n",
    "    data: [url and summary to be used to answer]\n",
    "    \n",
    "    ### Desired Outcome:\n",
    "    - Length: Detailed summary\n",
    "    - Format: Clear and structured analysis\n",
    "    - Style: Professional and objective\n",
    "    \n",
    "    ### Task:\n",
    "    Summarize the findings on the validity of the claims and provide detailed explanations to support your conclusions.\n",
    "    Conclude with a verdict from 'pants-fire', 'false', 'mostly-false', 'half-true', 'mostly-true', or 'true', \n",
    "    or declare 'uncertain' if conclusive information is unavailable. Include reasoning and cite source domains. \n",
    "    Responses should be based on factual data and contextually relevant information. \"\n",
    "    \n",
    "    Please follow following guidelines:\n",
    "    - You MUST determine your own concrete and valid opinion based on the given information. Do NOT defer to general and meaningless conclusions.\n",
    "    - You MUST write the report with markdown syntax\n",
    "    - Use an unbiased and journalistic tone.\n",
    "    - Don't forget to add a reference list at the end of the report in apa format and full url links without hyperlinks.\n",
    "    - {reference_prompt}\n",
    "\"\"\"\n",
    "\n",
    "SUMMARIZE_FINDINGS_USER_INPUT_PROMPT = \"\"\"\n",
    "    post: {post}\n",
    "    data: {data}\n",
    "\"\"\"\n"
   ]
  },
  {
   "cell_type": "code",
   "execution_count": 35,
   "id": "cce736b9",
   "metadata": {},
   "outputs": [],
   "source": [
    "# GENERATE_FACT_CHECK_QUESTION_SYS_PROMPT = \"\"\"\n",
    "#     As an expert in fact-checking and internet research, your task is to formulate precise and fact-checkable questions that challenge the foundational assumptions given by the user.\n",
    "\n",
    "#     ### Instructions:\n",
    "\n",
    "#     1. Generate internet search ueries that examine the basic existence or availability of the services or features mentioned in the user's query.\n",
    "#     2. Use varied wording and sentence structures to broaden the scope of the search.\n",
    "#     3. Your responses should be suitable for conducting thorough internet searches.\n",
    "#     4. Do not address the user directly, as the user will not see your searches. \n",
    "    \n",
    "#     ### Example Format:\n",
    "#     Fact Check: [State the first internet search query]\n",
    "#     Fact Check: [State the second internet search query]\n",
    "#     Fact Check: [State the third internet search query]\n",
    "    \n",
    "#     Generate your internet search queries below:\n",
    "\n",
    "# \"\"\""
   ]
  },
  {
   "cell_type": "code",
   "execution_count": 36,
   "id": "b75259b3",
   "metadata": {},
   "outputs": [],
   "source": [
    "# SUMMARIZE_FINDINGS_SYS_PROMPT = \"\"\"\n",
    "# ### Instructions:\n",
    "# As an expert in factual verification, determine the accuracy of the given claims based on the provided fact-checkable questions and their corresponding answers. Summarize your findings, explicitly stating whether the claims are true or false, and provide a comprehensive explanation.\n",
    "\n",
    "# ### Context:\n",
    "# post: [social media post to be fact checked]\n",
    "# questions: [fact-checkable questions against the claims]\n",
    "# answers: [answers to the above questions]\n",
    "\n",
    "# ### Desired Outcome:\n",
    "# - Length: Detailed summary (around 150-200 words)\n",
    "# - Format: Clear and structured analysis\n",
    "# - Style: Professional and objective\n",
    "\n",
    "# ### Task:\n",
    "# Summarize the findings on the validity of the claims and provide detailed explanations to support your conclusions.\n",
    "# Conclude with a verdict from 'pants-fire', 'false', 'mostly-false', 'half-true', 'mostly-true', or 'true', \n",
    "# or declare 'uncertain' if conclusive information is unavailable. Always Include reasoning and cite source domains. \n",
    "# Responses should be based on factual data and contextually relevant information. \"\n",
    "\n",
    "# Always include the full urls used to answer the question\n",
    "# \"\"\"\n",
    "\n",
    "# SUMMARIZE_FINDINGS_USER_INPUT_PROMPT = \"\"\"\n",
    "#     post: {post}\n",
    "#     questions: {questions}\n",
    "#     answers: {answers}\n",
    "# \"\"\"\n"
   ]
  },
  {
   "cell_type": "code",
   "execution_count": 47,
   "id": "000beb29",
   "metadata": {},
   "outputs": [],
   "source": [
    "from langchain.output_parsers import CommaSeparatedListOutputParser\n",
    "from langchain.prompts import PromptTemplate\n",
    "from tavily import TavilyClient\n",
    "\n",
    "def claim_extractor_node(state: AgentState):\n",
    "    output_parser = FactCheckParser()\n",
    "    sys_prompt = PromptTemplate(template=CLAIM_EXTRACTOR_PROMPT)\n",
    "    messages = [\n",
    "        SystemMessage(content=CLAIM_EXTRACTOR_PROMPT), \n",
    "        HumanMessage(content=state['post'])\n",
    "    ]\n",
    "    response = model.invoke(messages)\n",
    "    claims = output_parser.parse(response.content)\n",
    "    return {\"claims\": claims.assumption}\n",
    "\n",
    "\n",
    "def generate_question_node(state: AgentState):\n",
    "    output_parser = FactCheckParser()\n",
    "    sys_prompt = PromptTemplate(template=GENERATE_FACT_CHECK_QUESTION_SYS_PROMPT)\n",
    "    messages = [\n",
    "        SystemMessage(content=GENERATE_FACT_CHECK_QUESTION_SYS_PROMPT), \n",
    "        HumanMessage(content=str(state['post']))\n",
    "    ]\n",
    "    response = model.invoke(messages)\n",
    "    \n",
    "    questions = output_parser.parse(response.content)\n",
    "    return {\"fact_check_questions\": questions.followup}\n",
    "\n",
    "def intenet_research_node(state: AgentState):\n",
    "    client = TavilyClient()\n",
    "    search_results = []\n",
    "    for question in state['fact_check_questions']:\n",
    "        result = []\n",
    "        tavily_resp = client.search(question,\n",
    "                       include_answer=True, include_raw_content=True)\n",
    "#         result['query'] = tavily_resp['query']\n",
    "#         result['answer_summary'] = tavily_resp['answer']\n",
    "        result = [{'url': x['url'], 'content': x['content']} for x in tavily_resp['results']]\n",
    "        search_results = search_results + result\n",
    "    return {\"internet_findings\": str(search_results)}\n",
    "\n",
    "def summarize_node(state: AgentState):\n",
    "    data = {\"post\": state['post'], \"claims\": str(state['claims']), \"questions\": str(state['fact_check_questions']),\n",
    "            \"data\": str(state['internet_findings'])}\n",
    "    \n",
    "    input_prompt = SUMMARIZE_FINDINGS_USER_INPUT_PROMPT.format(**data)\n",
    "    messages = [\n",
    "        SystemMessage(content=SUMMARIZE_FINDINGS_SYS_PROMPT), \n",
    "        HumanMessage(content=input_prompt)\n",
    "    ]\n",
    "    response = model.invoke(messages)\n",
    "    return {\"result\": response.content}"
   ]
  },
  {
   "cell_type": "code",
   "execution_count": 48,
   "id": "1c17f95b",
   "metadata": {},
   "outputs": [],
   "source": [
    "graph = StateGraph(AgentState)"
   ]
  },
  {
   "cell_type": "code",
   "execution_count": 49,
   "id": "cc384fd8",
   "metadata": {},
   "outputs": [],
   "source": [
    "# graph.add_node(\"claim_extractor\", claim_extractor_node)\n",
    "graph.add_node(\"question_generator\", generate_question_node)\n",
    "graph.add_node(\"internet_researcher\", intenet_research_node)\n",
    "graph.add_node(\"summarize_results\", summarize_node)"
   ]
  },
  {
   "cell_type": "code",
   "execution_count": 50,
   "id": "a61c990b",
   "metadata": {},
   "outputs": [],
   "source": [
    "# graph.set_entry_point(\"claim_extractor\")\n",
    "graph.set_entry_point(\"question_generator\")"
   ]
  },
  {
   "cell_type": "code",
   "execution_count": 51,
   "id": "37d97fc7",
   "metadata": {},
   "outputs": [],
   "source": [
    "# graph.add_edge(\"claim_extractor\", \"question_generator\")"
   ]
  },
  {
   "cell_type": "code",
   "execution_count": 52,
   "id": "6408d399",
   "metadata": {},
   "outputs": [],
   "source": [
    "graph.add_edge(\"question_generator\", \"internet_researcher\")"
   ]
  },
  {
   "cell_type": "code",
   "execution_count": 53,
   "id": "144b9a80",
   "metadata": {},
   "outputs": [],
   "source": [
    "graph.add_edge(\"internet_researcher\", \"summarize_results\")"
   ]
  },
  {
   "cell_type": "code",
   "execution_count": 54,
   "id": "5af77e3d",
   "metadata": {},
   "outputs": [],
   "source": [
    "graph.add_edge(\"summarize_results\", END)"
   ]
  },
  {
   "cell_type": "code",
   "execution_count": 55,
   "id": "57fcdce8",
   "metadata": {},
   "outputs": [],
   "source": [
    "graph = graph.compile()"
   ]
  },
  {
   "cell_type": "code",
   "execution_count": 56,
   "id": "2241af5d",
   "metadata": {},
   "outputs": [],
   "source": [
    "res = graph.invoke({\n",
    "    'post': \"\"\"\n",
    "        Imane Khalif is a biological women\n",
    "    \"\"\",\n",
    "    'claims': \"\"\n",
    "})"
   ]
  },
  {
   "cell_type": "code",
   "execution_count": 57,
   "id": "22e93af0",
   "metadata": {},
   "outputs": [],
   "source": [
    "import pprint"
   ]
  },
  {
   "cell_type": "code",
   "execution_count": 58,
   "id": "e9f8ed6c",
   "metadata": {},
   "outputs": [
    {
     "name": "stdout",
     "output_type": "stream",
     "text": [
      "''\n"
     ]
    }
   ],
   "source": [
    "pprint.pp(res['claims'])"
   ]
  },
  {
   "cell_type": "code",
   "execution_count": 59,
   "id": "ab2c670d",
   "metadata": {},
   "outputs": [
    {
     "name": "stdout",
     "output_type": "stream",
     "text": [
      "['Is Imane Khalif a biological woman?',\n",
      " 'What is the gender identity of Imane Khalif?',\n",
      " 'Has Imane Khalif publicly discussed her gender or biological sex?',\n",
      " \"Are there any official statements about Imane Khalif's biological sex?\",\n",
      " \"What are the details of Imane Khalif's personal background regarding gender?\"]\n"
     ]
    }
   ],
   "source": [
    "pprint.pp(res['fact_check_questions'])"
   ]
  },
  {
   "cell_type": "code",
   "execution_count": 60,
   "id": "d47ce022",
   "metadata": {},
   "outputs": [
    {
     "name": "stdout",
     "output_type": "stream",
     "text": [
      "(\"[{'url': \"\n",
      " \"'https://www.usatoday.com/story/sports/olympics/2024/08/02/imane-khelif-fact-check-olympic-boxer/74645341007/', \"\n",
      " \"'content': 'Fact check: Imane Khelif is a woman. Khelif is a woman, who is \"\n",
      " 'not transgender, nor identifies as intersex, according to GLAAD and '\n",
      " \"InterACT. Khelif reportedly has differences of sexual development ...'}, \"\n",
      " \"{'url': \"\n",
      " \"'https://www.sportingnews.com/us/olympics/news/imane-khelif-condition-explained-gender-fact-check/51994b8a2e23e7b423782f7a', \"\n",
      " \"'content': 'Imane Khelif is a woman, not transgender. Khelif is a woman, \"\n",
      " 'according to GLAAD and interACT. She is not transgender, and does not '\n",
      " \"identify as intersex. She has competed as a woman in boxing for ...'}, \"\n",
      " \"{'url': \"\n",
      " \"'https://www.nytimes.com/2024/08/02/world/olympics/boxing-imane-khelif-gender-athletes.html', \"\n",
      " '\\'content\\': \"The chief spokesman for the International Olympic Committee '\n",
      " 'condemned misinformation that cast doubt on the gender of Imane Khelif, an '\n",
      " 'Algerian boxer in the women\\'s competition. The Algerian ...\"}, {\\'url\\': '\n",
      " \"'https://www.nbcnewyork.com/paris-2024-summer-olympics/olympics-boxing-imane-khalif-xy-chromosome-italian-boxer-quit/5662035/', \"\n",
      " '\\'content\\': \"Fact Check: Olympics boxing gender testing controversy '\n",
      " 'explained Imane Khelif and Lin Yu-ting are female boxers, but they are '\n",
      " \"facing attacks from anti-LGBTQ+ conservatives online who claim they're \"\n",
      " '...\"}, {\\'url\\': '\n",
      " \"'https://apnews.com/article/olympics-2024-imane-khelif-boxing-gender-a3c7695f2efc635cfc7a5ba9e2ef01e8', \"\n",
      " '\\'content\\': \"VILLEPINTE, France (AP) — Boxer Imane Khelif of Algeria '\n",
      " 'clinched a medal at the Paris Olympics in an emotional fight Saturday that '\n",
      " 'followed days of sharp scrutiny and online abuse as misconceptions about her '\n",
      " 'gender exploded into a larger clash about identity in sports.. Khelif '\n",
      " \"defeated Anna Luca Hamori of Hungary 5:0 in the quarterfinals of the women's \"\n",
      " '66-kilogram division.\"}, {\\'url\\': '\n",
      " \"'https://www.usatoday.com/story/sports/olympics/2024/08/02/imane-khelif-fact-check-olympic-boxer/74645341007/', \"\n",
      " \"'content': 'Fact check: Imane Khelif is a woman. Khelif is a woman, who is \"\n",
      " 'not transgender, nor identifies as intersex, according to GLAAD and '\n",
      " \"InterACT. Khelif reportedly has differences of sexual development ...'}, \"\n",
      " \"{'url': \"\n",
      " \"'https://www.nbcnewyork.com/paris-2024-summer-olympics/olympics-boxing-imane-khalif-xy-chromosome-italian-boxer-quit/5662035/', \"\n",
      " '\\'content\\': \"Fact Check: Olympics boxing gender testing controversy '\n",
      " 'explained Imane Khelif and Lin Yu-ting are female boxers, but they are '\n",
      " \"facing attacks from anti-LGBTQ+ conservatives online who claim they're \"\n",
      " '...\"}, {\\'url\\': '\n",
      " \"'https://www.nbcnews.com/nbc-out/out-news/imane-khelif-boxing-win-olympics-gender-eligibility-rcna164662', \"\n",
      " \"'content': 'By Matt Lavietes. A female boxer whose gender identity has \"\n",
      " 'recently been questioned won her first fight at the Paris Olympics on '\n",
      " \"Thursday. Imane Khelif of Algeria defeated Angela Carini of Italy ...'}, \"\n",
      " \"{'url': \"\n",
      " \"'https://www.boxingscene.com/misunderstanding-imane-khelifs-past-present--185133', \"\n",
      " '\\'content\\': \"The IOC emphasized that Khelif\\'s gender identity was not a '\n",
      " \"transgender issue. Khelif will next face Hungary's Anna Luca Hamori, who \"\n",
      " 'took no issue with her opponent\\'s gender classification ...\"}, {\\'url\\': '\n",
      " \"'https://www.sportingnews.com/us/olympics/news/imane-khelif-condition-explained-gender-fact-check/51994b8a2e23e7b423782f7a', \"\n",
      " \"'content': 'Imane Khelif gender test results. Khelif was one of two boxers \"\n",
      " 'to fail a gender eligibility test ahead of the 2023 World Boxing '\n",
      " \"Championships. Those competitions are sanctioned by the IBA, and it ...'}, \"\n",
      " \"{'url': 'https://www.snopes.com/news/2024/08/05/imane-khelif-not-trans/', \"\n",
      " \"'content': 'She has always identified as a woman, and as a UNICEF ambassador \"\n",
      " 'has discussed the role that being a young girl in a tiny rural village has '\n",
      " \"had on her development as a boxer: When Imane Khelif, 24 ...'}, {'url': \"\n",
      " \"'https://www.usatoday.com/story/sports/olympics/2024/08/02/imane-khelif-fact-check-olympic-boxer/74645341007/', \"\n",
      " \"'content': 'Fact check: Imane Khelif is a woman. Khelif is a woman, who is \"\n",
      " 'not transgender, nor identifies as intersex, according to GLAAD and '\n",
      " \"InterACT. Khelif reportedly has differences of sexual development ...'}, \"\n",
      " \"{'url': \"\n",
      " \"'https://www.today.com/health/news/imane-khelif-boxer-gender-eligibility-controversy-rcna164854', \"\n",
      " \"'content': 'Imane Khelif of Algeria is one of two Olympic boxers who has \"\n",
      " 'found themselves at the center of an unfounded gender eligibility '\n",
      " \"controversy. Khelif and Lin Yu-ting of Taiwan came under scrutiny ...'}, \"\n",
      " \"{'url': \"\n",
      " \"'https://www.abc.net.au/news/2024-08-06/imane-khelif-womens-boxing-trans-a-social-media-pile-on/104186350', \"\n",
      " \"'content': 'Imane Khelif is a 25-year-old professional boxer from Algeria. \"\n",
      " 'She competed without controversy in the 2020 Tokyo Summer Olympics where she '\n",
      " \"was defeated in the quarterfinal stage.'}, {'url': \"\n",
      " \"'https://www.npr.org/2024/08/03/nx-s1-5062476/algerian-boxer-imane-khelif-clinches-olympic-medal-after-gender-outcry', \"\n",
      " \"'content': 'Imane Khelif clinched a medal in an emotional fight that \"\n",
      " 'followed sharp scrutiny and online abuse as misconceptions about her gender '\n",
      " \"have exploded into a larger clash about identity in sports.'}, {'url': \"\n",
      " \"'https://www.krvs.org/npr-news/2024-08-03/imane-khelif-is-just-the-latest-case-of-female-athletes-being-questioned-over-their-sex', \"\n",
      " '\\'content\\': \"Imane Khelif is just the latest case of female athletes being '\n",
      " \"questioned over their sex. Algeria's Imane Khelif, reacts after defeating \"\n",
      " \"Italy's Angela Carini in their women's 66kg preliminary boxing match at the \"\n",
      " '2024 Summer Olympics, Thursday, in Paris. NPR is in Paris for the 2024 '\n",
      " 'Summer Olympics.\"}, {\\'url\\': '\n",
      " \"'https://www.today.com/health/news/imane-khelif-boxer-gender-eligibility-controversy-rcna164854', \"\n",
      " \"'content': 'Imane Khelif is one of two Olympic boxers under scrutiny due to \"\n",
      " 'past gender eligibility concerns. They\\\\\\'ve faced \"hate speech\" and '\n",
      " '\"aggression,\" IOC says.\\'}, {\\'url\\': '\n",
      " \"'https://www.atlanticcouncil.org/blogs/menasource/imane-khelif-olympics-carini/', \"\n",
      " \"'content': 'Some have erroneously claimed that the disqualification was \"\n",
      " 'because Khelif was biologically a male, despite the fact that Khelif was '\n",
      " 'born female.The IBA stated that, ahead of the world championships in 2023, '\n",
      " 'Khelif underwent a test (the nature of which is confidential, but the IBA '\n",
      " 'stated it was not a testosterone examination). The IBA president later told '\n",
      " \"Russian news agency Tass that her ...'}, {'url': \"\n",
      " \"'https://www.snopes.com/fact-check/trans-rights-algeria/', 'content': \"\n",
      " '\"As people sought to debunk the false rumor in August 2024 that Olympic '\n",
      " 'boxer Imane Khalif, from Algeria, was a trans woman, some claimed she '\n",
      " 'couldn\\'t be trans because her country bans medical and ...\"}, {\\'url\\': '\n",
      " \"'https://www.usatoday.com/story/sports/olympics/2024/08/02/imane-khelif-fact-check-olympic-boxer/74645341007/', \"\n",
      " \"'content': 'Khelif is a woman, who is not transgender, nor identifies as \"\n",
      " 'intersex, according to GLAAD and InterACT. Khelif reportedly has differences '\n",
      " \"of sexual development, known as DSDs, the organizations ...'}, {'url': \"\n",
      " \"'https://www.independent.co.uk/news/uk/home-news/imane-khelif-olympics-boxer-trans-debate-gender-carini-b2590229.html', \"\n",
      " \"'content': 'The tough childhood of embattled Olympic boxer Imane Khelif has \"\n",
      " 'come to light after her 46-second victory sparked an international gender '\n",
      " \"row amid a frenzy of misinformation.. Khelif, of Algeria ...'}, {'url': \"\n",
      " \"'https://www.usatoday.com/story/sports/olympics/2024/08/02/imane-khelif-fact-check-olympic-boxer/74645341007/', \"\n",
      " \"'content': 'Fact check: Imane Khelif is a woman. Khelif is a woman, who is \"\n",
      " 'not transgender, nor identifies as intersex, according to GLAAD and '\n",
      " \"InterACT. Khelif reportedly has differences of sexual development ...'}, \"\n",
      " \"{'url': \"\n",
      " \"'https://www.today.com/health/news/imane-khelif-boxer-gender-eligibility-controversy-rcna164854', \"\n",
      " \"'content': 'Imane Khelif is one of two Olympic boxers under scrutiny due to \"\n",
      " 'past gender eligibility concerns. They\\\\\\'ve faced \"hate speech\" and '\n",
      " '\"aggression,\" IOC says.\\'}, {\\'url\\': '\n",
      " \"'https://time.com/7007723/imane-khelif-bullying-hate-response-gender-boxing-olympics/', \"\n",
      " \"'content': 'August 4, 2024 10:00 PM EDT. PARIS — Olympic boxer Imane Khelif \"\n",
      " 'said the wave of hateful scrutiny she has faced over misconceptions about '\n",
      " 'her gender \"harms human dignity,\" and she called for ...\\'}, {\\'url\\': '\n",
      " \"'https://apnews.com/article/olympics-2024-imane-khelif-boxing-gender-7b171980b05bcef2117a7615f212eba9', \"\n",
      " \"'content': 'Olympic boxer Imane Khelif said the wave of hateful scrutiny she \"\n",
      " 'faced over misconceptions about her gender \"harms human dignity,\" and she '\n",
      " 'called for an end to bullying athletes after being greatly affected by the '\n",
      " 'international backlash against her. Photos. 13. By KADDOUR HABBARI and GREG '\n",
      " \"BEACHAM. Updated 11:00 PM PDT, August 4, 2024.'}]\")\n"
     ]
    }
   ],
   "source": [
    "pprint.pp(res['internet_findings'])"
   ]
  },
  {
   "cell_type": "code",
   "execution_count": 61,
   "id": "2011e9bc",
   "metadata": {},
   "outputs": [
    {
     "name": "stdout",
     "output_type": "stream",
     "text": [
      "### Analysis of the Claim: \"Imane Khalif is a biological woman\"\n",
      "\n",
      "#### Summary of Findings\n",
      "\n",
      "The claim that Imane Khalif is a biological woman is supported by multiple sources. These sources consistently state that Khalif is a woman, not transgender, and does not identify as intersex. However, it is noted that she has differences of sexual development (DSDs).\n",
      "\n",
      "#### Detailed Explanation\n",
      "\n",
      "1. **Verification from Multiple Sources**:\n",
      "   - **USA Today**: Reports that Imane Khalif is a woman, not transgender, and does not identify as intersex. It also mentions that she has differences of sexual development ([USA Today](https://www.usatoday.com/story/sports/olympics/2024/08/02/imane-khelif-fact-check-olympic-boxer/74645341007/)).\n",
      "   - **Sporting News**: Confirms that Khalif is a woman and not transgender or intersex, reiterating the information provided by GLAAD and interACT ([Sporting News](https://www.sportingnews.com/us/olympics/news/imane-khelif-condition-explained-gender-fact-check/51994b8a2e23e7b423782f7a)).\n",
      "   - **New York Times**: Highlights that the International Olympic Committee condemned misinformation about Khalif's gender, affirming her status as a female athlete ([New York Times](https://www.nytimes.com/2024/08/02/world/olympics/boxing-imane-khelif-gender-athletes.html)).\n",
      "   - **NBC New York**: Discusses the controversy and confirms that Khalif is a female boxer facing attacks from anti-LGBTQ+ conservatives ([NBC New York](https://www.nbcnewyork.com/paris-2024-summer-olympics/olympics-boxing-imane-khalif-xy-chromosome-italian-boxer-quit/5662035/)).\n",
      "   - **AP News**: Reports on Khalif's participation in the Paris Olympics and the scrutiny she faced, affirming her gender as female ([AP News](https://apnews.com/article/olympics-2024-imane-khelif-boxing-gender-a3c7695f2efc635cfc7a5ba9e2ef01e8)).\n",
      "\n",
      "2. **Differences of Sexual Development (DSDs)**:\n",
      "   - Several sources mention that Khalif has differences of sexual development. This means that while she is biologically female, she may have atypical chromosomal, gonadal, or anatomical sex development. This condition does not change her gender identity as a woman.\n",
      "\n",
      "3. **Public and Organizational Support**:\n",
      "   - Organizations like GLAAD and interACT have publicly supported Khalif's identification as a woman. The International Olympic Committee has also condemned misinformation about her gender.\n",
      "\n",
      "#### Conclusion\n",
      "\n",
      "Based on the consistent information from multiple reputable sources, the claim that Imane Khalif is a biological woman is **true**. The additional context of her having differences of sexual development does not negate her gender identity as a woman.\n",
      "\n",
      "### Verdict: **True**\n",
      "\n",
      "#### References\n",
      "\n",
      "- USA Today. (2024, August 2). Fact check: Imane Khelif is a woman. [USA Today](https://www.usatoday.com/story/sports/olympics/2024/08/02/imane-khelif-fact-check-olympic-boxer/74645341007/)\n",
      "- Sporting News. (2024). Imane Khelif condition explained: Gender fact check. [Sporting News](https://www.sportingnews.com/us/olympics/news/imane-khelif-condition-explained-gender-fact-check/51994b8a2e23e7b423782f7a)\n",
      "- New York Times. (2024, August 2). Olympics boxing gender testing controversy explained. [New York Times](https://www.nytimes.com/2024/08/02/world/olympics/boxing-imane-khelif-gender-athletes.html)\n",
      "- NBC New York. (2024). Fact Check: Olympics boxing gender testing controversy explained. [NBC New York](https://www.nbcnewyork.com/paris-2024-summer-olympics/olympics-boxing-imane-khalif-xy-chromosome-italian-boxer-quit/5662035/)\n",
      "- AP News. (2024). Boxer Imane Khelif of Algeria clinched a medal at the Paris Olympics. [AP News](https://apnews.com/article/olympics-2024-imane-khelif-boxing-gender-a3c7695f2efc635cfc7a5ba9e2ef01e8)\n"
     ]
    }
   ],
   "source": [
    "print(res['result'])"
   ]
  },
  {
   "cell_type": "code",
   "execution_count": null,
   "id": "b97f440a",
   "metadata": {},
   "outputs": [],
   "source": []
  },
  {
   "cell_type": "code",
   "execution_count": null,
   "id": "c7e32910",
   "metadata": {},
   "outputs": [],
   "source": []
  },
  {
   "cell_type": "code",
   "execution_count": null,
   "id": "aff3259f",
   "metadata": {},
   "outputs": [],
   "source": []
  },
  {
   "cell_type": "code",
   "execution_count": null,
   "id": "4e672162",
   "metadata": {},
   "outputs": [],
   "source": []
  },
  {
   "cell_type": "code",
   "execution_count": null,
   "id": "12f45e3b",
   "metadata": {},
   "outputs": [],
   "source": []
  }
 ],
 "metadata": {
  "kernelspec": {
   "display_name": "Python [conda env:llm2] *",
   "language": "python",
   "name": "conda-env-llm2-py"
  },
  "language_info": {
   "codemirror_mode": {
    "name": "ipython",
    "version": 3
   },
   "file_extension": ".py",
   "mimetype": "text/x-python",
   "name": "python",
   "nbconvert_exporter": "python",
   "pygments_lexer": "ipython3",
   "version": "3.9.19"
  }
 },
 "nbformat": 4,
 "nbformat_minor": 5
}
